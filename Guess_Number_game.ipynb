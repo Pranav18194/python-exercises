{
 "cells": [
  {
   "cell_type": "code",
   "execution_count": 3,
   "metadata": {},
   "outputs": [
    {
     "name": "stdout",
     "output_type": "stream",
     "text": [
      "Hello!, I am chitti !, What is yout name ? \n",
      "veer\n",
      "Well,veer,I am thinking of a number between 1 and 20.\n",
      "Take a guess.\n",
      "5\n",
      "Your guess is too low.\n",
      "Take a guess.\n",
      "9\n",
      "Your guess is too high\n",
      "Take a guess.\n",
      "8\n",
      "Your guess is too high\n",
      "Take a guess.\n",
      "7\n",
      "Good job,veer! You guessed my number in 4\t guessess!\n"
     ]
    }
   ],
   "source": [
    "#Let's make a game of gessing the number\n",
    "import random\n",
    "guessesTaken=0\n",
    "print(\"Hello!, I am chitti !, What is yout name ? \")\n",
    "Myname = input()\n",
    "\n",
    "number = random.randint(1,20)\n",
    "print(\"Well,\"+ Myname +\",I am thinking of a number between 1 and 20.\")\n",
    "\n",
    "while guessesTaken < 6:\n",
    "    print(\"Take a guess.\") # There are four spaces in front of print\n",
    "    guess =input()\n",
    "    guess= int(guess)\n",
    "    guessesTaken =guessesTaken +1\n",
    "    \n",
    "    \n",
    "    if guess < number:\n",
    "        print('Your guess is too low.') \n",
    "    if guess > number:\n",
    "        print(\"Your guess is too high\")\n",
    "    if guess ==number:\n",
    "        break\n",
    "if guess ==number:\n",
    "    guessesTaken=str(guessesTaken)\n",
    "    print('Good job,'+Myname+'! You guessed my number in '+guessesTaken+'\\t guessess!')\n",
    "    if guess != number:\n",
    "        number= str(number)\n",
    "        print(\"Nope, The number I was thinking of was\"+number)"
   ]
  },
  {
   "cell_type": "code",
   "execution_count": null,
   "metadata": {},
   "outputs": [],
   "source": []
  },
  {
   "cell_type": "code",
   "execution_count": null,
   "metadata": {},
   "outputs": [],
   "source": []
  }
 ],
 "metadata": {
  "kernelspec": {
   "display_name": "Python 3",
   "language": "python",
   "name": "python3"
  },
  "language_info": {
   "codemirror_mode": {
    "name": "ipython",
    "version": 3
   },
   "file_extension": ".py",
   "mimetype": "text/x-python",
   "name": "python",
   "nbconvert_exporter": "python",
   "pygments_lexer": "ipython3",
   "version": "3.7.6"
  }
 },
 "nbformat": 4,
 "nbformat_minor": 4
}
