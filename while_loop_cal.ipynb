{
 "cells": [
  {
   "cell_type": "code",
   "execution_count": 1,
   "metadata": {},
   "outputs": [
    {
     "name": "stdout",
     "output_type": "stream",
     "text": [
      "Select operation.\n",
      "1.Add\n",
      "2.Subtract\n",
      "3.Multiply\n",
      "4.Divide\n",
      "Enter choice(1/2/3/4):2\n",
      "Enter first number: 3\n",
      "Enter second number: 6\n",
      "3 - 6 = -3\n",
      "Continue?y/n:n\n"
     ]
    }
   ],
   "source": [
    "cont = \"y\"\n",
    "while cont == \"y\" or cont == \"Y\":\n",
    "    print(\"Select operation.\")\n",
    "    print(\"1.Add\")\n",
    "    print(\"2.Subtract\")\n",
    "    print(\"3.Multiply\")\n",
    "    print(\"4.Divide\")\n",
    "\n",
    "    choice = input(\"Enter choice(1/2/3/4):\")\n",
    "\n",
    "    num1 = int(input(\"Enter first number: \"))\n",
    "    num2 = int(input(\"Enter second number: \"))\n",
    "\n",
    "    if choice == '1':\n",
    "       print(num1,\"+\",num2,\"=\", (num1 + num2))\n",
    "\n",
    "    elif choice == '2':\n",
    "       print(num1,\"-\",num2,\"=\", (num1 - num2))\n",
    "\n",
    "    elif choice == '3':\n",
    "       print(num1,\"*\",num2,\"=\", (num1 * num2))\n",
    "\n",
    "    elif choice == '4':\n",
    "       print(num1,\"/\",num2,\"=\", (num1 / num2))\n",
    "    else:\n",
    "       print(\"Invalid input\")\n",
    "    cont = input(\"Continue?y/n:\")"
   ]
  },
  {
   "cell_type": "markdown",
   "metadata": {},
   "source": [
    "# Loop cal"
   ]
  },
  {
   "cell_type": "code",
   "execution_count": 2,
   "metadata": {},
   "outputs": [
    {
     "name": "stdout",
     "output_type": "stream",
     "text": [
      "['Pranav', 'Rucha', 'Tushar', 'Prakash', 'Ahilya', 'Rahul', 'Trupti']\n"
     ]
    }
   ],
   "source": [
    "L1 = [\"Pranav\",\"Rucha\",\"Tushar\",\"Prakash\",\"Ahilya\",\"Rahul\",\"Trupti\"]\n",
    "print(L1)"
   ]
  },
  {
   "cell_type": "code",
   "execution_count": 3,
   "metadata": {},
   "outputs": [
    {
     "name": "stdout",
     "output_type": "stream",
     "text": [
      "Tushar\n"
     ]
    }
   ],
   "source": [
    "print(L1[2])"
   ]
  },
  {
   "cell_type": "code",
   "execution_count": 4,
   "metadata": {},
   "outputs": [
    {
     "name": "stdout",
     "output_type": "stream",
     "text": [
      "Ahilya\n"
     ]
    }
   ],
   "source": [
    "print(L1[-3])\n"
   ]
  },
  {
   "cell_type": "code",
   "execution_count": 5,
   "metadata": {},
   "outputs": [
    {
     "name": "stdout",
     "output_type": "stream",
     "text": [
      "['Tushar', 'Prakash', 'Ahilya']\n"
     ]
    }
   ],
   "source": [
    "print(L1[2:5])"
   ]
  },
  {
   "cell_type": "code",
   "execution_count": 6,
   "metadata": {},
   "outputs": [
    {
     "name": "stdout",
     "output_type": "stream",
     "text": [
      "['Pranav', 'Rucha', 'Tushar']\n"
     ]
    }
   ],
   "source": [
    "print(L1[:3])"
   ]
  },
  {
   "cell_type": "code",
   "execution_count": 7,
   "metadata": {},
   "outputs": [
    {
     "name": "stdout",
     "output_type": "stream",
     "text": [
      "['Tushar', 'Prakash', 'Ahilya', 'Rahul', 'Trupti']\n"
     ]
    }
   ],
   "source": [
    "print(L1[2:])"
   ]
  },
  {
   "cell_type": "code",
   "execution_count": 3,
   "metadata": {},
   "outputs": [],
   "source": [
    "L1 = [10,20,30]\n",
    "L2 = [15,25,35]\n",
    "total = []\n",
    "total.append(L1+L2)"
   ]
  },
  {
   "cell_type": "code",
   "execution_count": null,
   "metadata": {},
   "outputs": [],
   "source": []
  },
  {
   "cell_type": "code",
   "execution_count": 11,
   "metadata": {},
   "outputs": [
    {
     "name": "stdout",
     "output_type": "stream",
     "text": [
      "[10, 20, 30, 15, 25, 35]\n"
     ]
    }
   ],
   "source": [
    "L1 = [10,20,30]\n",
    "L2 = [15,25,35]\n",
    "total = L1 + L2\n",
    "print(total)"
   ]
  },
  {
   "cell_type": "code",
   "execution_count": 13,
   "metadata": {},
   "outputs": [
    {
     "name": "stdout",
     "output_type": "stream",
     "text": [
      "\n",
      " total sum of two list = [25, 45, 65]\n"
     ]
    }
   ],
   "source": [
    "L1 = [10,20,30]\n",
    "L2 = [15,25,35]\n",
    "total = []\n",
    "for j in range (3):\n",
    "    total.append(L1[j] + L2 [j])\n",
    "print(\"\\n total sum of two list =\", total)"
   ]
  },
  {
   "cell_type": "code",
   "execution_count": 17,
   "metadata": {},
   "outputs": [
    {
     "name": "stdout",
     "output_type": "stream",
     "text": [
      "\n",
      " total sub of two list = [5, 5, 5]\n"
     ]
    }
   ],
   "source": [
    "L1 = [10,20,30]\n",
    "L2 = [15,25,35]\n",
    "total = []\n",
    "\n",
    "for j in range (3):\n",
    "    total.append(L2[j]-L1[j])\n",
    "print(\"\\n total sub of two list =\", total)"
   ]
  },
  {
   "cell_type": "code",
   "execution_count": 18,
   "metadata": {},
   "outputs": [
    {
     "name": "stdout",
     "output_type": "stream",
     "text": [
      "\n",
      " total mul of two list = [150, 500, 1050]\n"
     ]
    }
   ],
   "source": [
    "L1 = [10,20,30]\n",
    "L2 = [15,25,35]\n",
    "total = []\n",
    "\n",
    "for j in range (3):\n",
    "    total.append(L2[j]*L1[j])\n",
    "print(\"\\n total mul of two list =\", total)"
   ]
  },
  {
   "cell_type": "code",
   "execution_count": 20,
   "metadata": {},
   "outputs": [
    {
     "name": "stdout",
     "output_type": "stream",
     "text": [
      "\n",
      " total div of two list = [1.5, 1.25, 1.1666666666666667]\n"
     ]
    }
   ],
   "source": [
    "L1 = [10,20,30]\n",
    "L2 = [15,25,35]\n",
    "total = []\n",
    "\n",
    "for j in range (3):\n",
    "    total.append(L2[j]/L1[j])\n",
    "print(\"\\n total div of two list =\", total)"
   ]
  },
  {
   "cell_type": "code",
   "execution_count": 21,
   "metadata": {},
   "outputs": [
    {
     "name": "stdout",
     "output_type": "stream",
     "text": [
      "\n",
      " total sub of two list = [50, 100, 150]\n"
     ]
    }
   ],
   "source": [
    "L1 = [10,20,30]\n",
    "L2 = [15,25,35]\n",
    "total = []\n",
    "\n",
    "for j in range (3):\n",
    "    total.append(5* L1[j])\n",
    "print(\"\\n total sub of two list =\", total)"
   ]
  },
  {
   "cell_type": "code",
   "execution_count": 22,
   "metadata": {},
   "outputs": [
    {
     "name": "stdout",
     "output_type": "stream",
     "text": [
      "\n",
      " total sub of two list = [20, 40, 60]\n"
     ]
    }
   ],
   "source": [
    "L1 = [10,20,30]\n",
    "L2 = [15,25,35]\n",
    "total = []\n",
    "\n",
    "for j in range (3):\n",
    "    total.append(L1[j]*2)\n",
    "print(\"\\n total sub of two list =\", total)"
   ]
  },
  {
   "cell_type": "code",
   "execution_count": 4,
   "metadata": {},
   "outputs": [],
   "source": [
    "L1 = [10,20,30]\n",
    "L2 = [15,25,35]\n",
    "total = []\n",
    "total.append(L1+L2)"
   ]
  },
  {
   "cell_type": "raw",
   "metadata": {},
   "source": [
    "##addtion of two element which are from different list L1= [1,3,4,5] ,L2=[5,6,7,8]\n",
    "L1[2]+L2[1]\n",
    "\n",
    "L1 = [10,20,30]\n",
    "L2 = [15,25,35]\n",
    "total = []\n",
    "\n",
    "for j in range (3):\n",
    "    total.append(L1[j]*2)\n",
    "print(\"\\n total sub of two list =\", total)"
   ]
  },
  {
   "cell_type": "code",
   "execution_count": 9,
   "metadata": {},
   "outputs": [
    {
     "name": "stdout",
     "output_type": "stream",
     "text": [
      "total = [55]\n"
     ]
    }
   ],
   "source": [
    "L1 = [10,20,30]\n",
    "L2 = [15,25,35]\n",
    "total = []\n",
    "\n",
    "for j in range (1):\n",
    "    total.append(L1[2]+ L2[1])\n",
    "print(\"total =\", total)"
   ]
  },
  {
   "cell_type": "code",
   "execution_count": null,
   "metadata": {},
   "outputs": [],
   "source": []
  }
 ],
 "metadata": {
  "kernelspec": {
   "display_name": "Python 3",
   "language": "python",
   "name": "python3"
  },
  "language_info": {
   "codemirror_mode": {
    "name": "ipython",
    "version": 3
   },
   "file_extension": ".py",
   "mimetype": "text/x-python",
   "name": "python",
   "nbconvert_exporter": "python",
   "pygments_lexer": "ipython3",
   "version": "3.7.3"
  }
 },
 "nbformat": 4,
 "nbformat_minor": 2
}
