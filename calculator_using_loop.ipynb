{
 "cells": [
  {
   "cell_type": "code",
   "execution_count": null,
   "metadata": {},
   "outputs": [
    {
     "name": "stdout",
     "output_type": "stream",
     "text": [
      "Select operation.\n",
      "1.Add\n",
      "2.Subtract\n",
      "3.Multiply\n",
      "4.Divide\n",
      "Enter choice(1/2/3/4):5\n",
      "Enter first number: 3\n",
      "Enter second number: 1\n",
      "Invalid input\n",
      "Continue?y/n:y\n",
      "Select operation.\n",
      "1.Add\n",
      "2.Subtract\n",
      "3.Multiply\n",
      "4.Divide\n"
     ]
    }
   ],
   "source": [
    "cont = \"y\"\n",
    "while cont == \"y\" or cont == \"Y\":\n",
    "    print(\"Select operation.\")\n",
    "    print(\"1.Add\")\n",
    "    print(\"2.Subtract\")\n",
    "    print(\"3.Multiply\")\n",
    "    print(\"4.Divide\")\n",
    "\n",
    "    choice = input(\"Enter choice(1/2/3/4):\")\n",
    "\n",
    "    num1 = int(input(\"Enter first number: \"))\n",
    "    num2 = int(input(\"Enter second number: \"))\n",
    "\n",
    "    if choice == '1':\n",
    "       print(num1,\"+\",num2,\"=\", (num1 + num2))\n",
    "\n",
    "    elif choice == '2':\n",
    "       print(num1,\"-\",num2,\"=\", (num1 - num2))\n",
    "\n",
    "    elif choice == '3':\n",
    "       print(num1,\"*\",num2,\"=\", (num1 * num2))\n",
    "\n",
    "    elif choice == '4':\n",
    "       print(num1,\"/\",num2,\"=\", (num1 / num2))\n",
    "    else:\n",
    "       print(\"Invalid input\")\n",
    "    cont = input(\"Continue?y/n:\")"
   ]
  },
  {
   "cell_type": "code",
   "execution_count": null,
   "metadata": {},
   "outputs": [],
   "source": []
  }
 ],
 "metadata": {
  "kernelspec": {
   "display_name": "Python 3",
   "language": "python",
   "name": "python3"
  },
  "language_info": {
   "codemirror_mode": {
    "name": "ipython",
    "version": 3
   },
   "file_extension": ".py",
   "mimetype": "text/x-python",
   "name": "python",
   "nbconvert_exporter": "python",
   "pygments_lexer": "ipython3",
   "version": "3.7.3"
  }
 },
 "nbformat": 4,
 "nbformat_minor": 2
}
